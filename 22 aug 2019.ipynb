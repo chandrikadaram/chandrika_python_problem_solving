{
 "cells": [
  {
   "cell_type": "code",
   "execution_count": 2,
   "metadata": {},
   "outputs": [
    {
     "data": {
      "text/plain": [
       "set"
      ]
     },
     "execution_count": 2,
     "metadata": {},
     "output_type": "execute_result"
    }
   ],
   "source": [
    "s1={10,20,30}\n",
    "type(s1)"
   ]
  },
  {
   "cell_type": "code",
   "execution_count": 3,
   "metadata": {},
   "outputs": [
    {
     "data": {
      "text/plain": [
       "{10, 20, 30, 40, 50}"
      ]
     },
     "execution_count": 3,
     "metadata": {},
     "output_type": "execute_result"
    }
   ],
   "source": [
    "s2={20,40,50}\n",
    "s1|s2"
   ]
  },
  {
   "cell_type": "code",
   "execution_count": 7,
   "metadata": {},
   "outputs": [
    {
     "name": "stdout",
     "output_type": "stream",
     "text": [
      "8208\n",
      "armstrong\n"
     ]
    }
   ],
   "source": [
    "n=int(input())\n",
    "rev=0\n",
    "n1=n\n",
    "while(n>0):\n",
    "    rev=rev+(n%10)**4\n",
    "    n=n//10\n",
    "if(rev==n1):\n",
    "    print(\"armstrong\")\n",
    "else:\n",
    "    print(\"not armstrong\")\n",
    "    "
   ]
  },
  {
   "cell_type": "markdown",
   "metadata": {},
   "source": [
    "# Files in python\n",
    "# 3 steps to work with files in python\n",
    "- 1. open file by specifing operation\n",
    "- 2. do your required operation\n",
    "- 3. close the file which is opened"
   ]
  },
  {
   "cell_type": "code",
   "execution_count": 18,
   "metadata": {},
   "outputs": [
    {
     "name": "stdout",
     "output_type": "stream",
     "text": [
      "ammulu\n"
     ]
    }
   ],
   "source": [
    "fh=open('book.txt','r')\n",
    "data=fh.read()\n",
    "print(data)\n",
    "fh.close()"
   ]
  },
  {
   "cell_type": "code",
   "execution_count": 15,
   "metadata": {},
   "outputs": [],
   "source": [
    "fh=open('mystory.txt','w')\n",
    "content=\"this is my string\"\n",
    "data=fh.write(content)\n",
    "fh.close()"
   ]
  },
  {
   "cell_type": "code",
   "execution_count": 24,
   "metadata": {},
   "outputs": [],
   "source": [
    "fh=open('mystory.txt','r')\n",
    "fh1=open('book.txt','w')\n",
    "data=fh.read()\n",
    "ex=fh1.write(data)\n",
    "fh1.close()\n",
    "fh.close()"
   ]
  },
  {
   "cell_type": "code",
   "execution_count": 23,
   "metadata": {},
   "outputs": [
    {
     "data": {
      "text/plain": [
       "'book.txt'"
      ]
     },
     "execution_count": 23,
     "metadata": {},
     "output_type": "execute_result"
    }
   ],
   "source": []
  },
  {
   "cell_type": "code",
   "execution_count": 29,
   "metadata": {},
   "outputs": [],
   "source": [
    "fh=open('mystory.txt','r')\n",
    "fh1=open('book.txt','w')\n",
    "data=fh.read()\n",
    "ex=fh1.write(data)\n",
    "fh1.close()\n",
    "fh.close()"
   ]
  },
  {
   "cell_type": "code",
   "execution_count": 39,
   "metadata": {},
   "outputs": [],
   "source": [
    "fh=open('mystory.txt','w')\n",
    "content='this is ammulu'\n",
    "fh.write(content)\n",
    "fh.write(' this is my story')\n",
    "fh.close()"
   ]
  },
  {
   "cell_type": "code",
   "execution_count": 40,
   "metadata": {},
   "outputs": [
    {
     "name": "stdout",
     "output_type": "stream",
     "text": [
      "\n"
     ]
    }
   ],
   "source": [
    "fh=open('mystory.txt','r')\n",
    "data=fh.read()\n",
    "data=fh.read()\n",
    "print(data) # it return empty string\n",
    "fh.close()"
   ]
  },
  {
   "cell_type": "code",
   "execution_count": 41,
   "metadata": {},
   "outputs": [
    {
     "name": "stdout",
     "output_type": "stream",
     "text": [
      "this is ammulu this is my story\n"
     ]
    }
   ],
   "source": [
    "fh=open('mystory.txt','r')\n",
    "data1=fh.read()\n",
    "data2=fh.read()\n",
    "print(data1)\n",
    "fh.close()"
   ]
  },
  {
   "cell_type": "markdown",
   "metadata": {},
   "source": [
    "# tell\n",
    "- is used to tell to know the position of cursor"
   ]
  },
  {
   "cell_type": "code",
   "execution_count": 42,
   "metadata": {},
   "outputs": [
    {
     "name": "stdout",
     "output_type": "stream",
     "text": [
      "cursor 0\n",
      "cursor 31\n",
      "this is ammulu this is my story\n"
     ]
    }
   ],
   "source": [
    "fh=open('mystory.txt','r')\n",
    "print('cursor',fh.tell())\n",
    "data1=fh.read()\n",
    "print('cursor',fh.tell())\n",
    "print(data1)\n",
    "fh.close()"
   ]
  },
  {
   "cell_type": "markdown",
   "metadata": {},
   "source": [
    "# seek\n",
    "- to change the position of cursor"
   ]
  },
  {
   "cell_type": "code",
   "execution_count": 46,
   "metadata": {},
   "outputs": [
    {
     "name": "stdout",
     "output_type": "stream",
     "text": [
      "cursor 31\n",
      "cursor 0\n",
      "this is ammulu this is my story\n"
     ]
    }
   ],
   "source": [
    "fh=open('mystory.txt','r')\n",
    "fh.read()\n",
    "print('cursor',fh.tell())\n",
    "fh.seek(0) # position\n",
    "print('cursor',fh.tell())\n",
    "data=fh.read()\n",
    "print(data)\n",
    "fh.close()"
   ]
  },
  {
   "cell_type": "markdown",
   "metadata": {},
   "source": [
    "# append\n",
    "- is used add content to the original file"
   ]
  },
  {
   "cell_type": "code",
   "execution_count": 48,
   "metadata": {},
   "outputs": [],
   "source": [
    "fh=open('mystory.txt','a')\n",
    "fh.write(' bujji')\n",
    "fh.close()"
   ]
  },
  {
   "cell_type": "code",
   "execution_count": 82,
   "metadata": {},
   "outputs": [],
   "source": [
    "import re\n",
    "fh=open('book1.txt','r')\n",
    "fh1=open('mystory.txt','w')\n",
    "data=fh.read()\n",
    "for i in data:\n",
    "    if re.findall('\\d+',i ):\n",
    "        result=fh1.write(i+'\\n')\n",
    "fh.close()\n",
    "fh1.close()\n"
   ]
  },
  {
   "cell_type": "code",
   "execution_count": 89,
   "metadata": {},
   "outputs": [
    {
     "name": "stdout",
     "output_type": "stream",
     "text": [
      "line 3 \n",
      "\n",
      "no of lines: 4\n"
     ]
    }
   ],
   "source": [
    "fh=open(\"book1.txt\")\n",
    "count=0\n",
    "for line in fh:\n",
    "    count+=1\n",
    "    if count==3:\n",
    "        print(line)\n",
    "print(\"no of lines:\",count)\n",
    "fh.close()"
   ]
  },
  {
   "cell_type": "markdown",
   "metadata": {},
   "source": [
    "# readline()\n",
    "- read and give one line from the cursor position\n",
    "# readlines()\n",
    "- gives the remaining lines from the cursor position"
   ]
  },
  {
   "cell_type": "code",
   "execution_count": 4,
   "metadata": {},
   "outputs": [
    {
     "name": "stdout",
     "output_type": "stream",
     "text": [
      "['line 2\\n', 'line 3 \\n', 'line 4']\n"
     ]
    }
   ],
   "source": [
    "fh=open(\"book1.txt\")\n",
    "line1=fh.readline()\n",
    "line2=fh.readlines()\n",
    "print(line2)\n",
    "fh.close()"
   ]
  },
  {
   "cell_type": "code",
   "execution_count": 7,
   "metadata": {},
   "outputs": [
    {
     "name": "stdout",
     "output_type": "stream",
     "text": [
      "4\n",
      "14\n",
      " is ammulu\n"
     ]
    }
   ],
   "source": [
    "fh=open(\"book.txt\",'r+')\n",
    "fh.write('hiii')\n",
    "print(fh.tell())\n",
    "data=fh.read()\n",
    "print(fh.tell())\n",
    "print(data)\n",
    "fh.close()"
   ]
  },
  {
   "cell_type": "code",
   "execution_count": 10,
   "metadata": {},
   "outputs": [
    {
     "name": "stdout",
     "output_type": "stream",
     "text": [
      "\n"
     ]
    }
   ],
   "source": [
    "fh=open(\"book1.txt\",'w+')\n",
    "fh.write('line6')\n",
    "print(fh.read())\n",
    "fh.close()"
   ]
  },
  {
   "cell_type": "code",
   "execution_count": 42,
   "metadata": {},
   "outputs": [],
   "source": [
    "import re\n",
    "fh=open(\"mobile no.txt\",'r')\n",
    "fh1=open(\"empty file.txt\",'w')\n",
    "count=0\n",
    "for line in fh:\n",
    "        if not  re.search('[9876]\\d{9}',line):\n",
    "            fh1.write(line)\n",
    "fh.close()\n",
    "fh1.close()    "
   ]
  },
  {
   "cell_type": "code",
   "execution_count": 51,
   "metadata": {},
   "outputs": [
    {
     "name": "stdout",
     "output_type": "stream",
     "text": [
      "rno  name     ph no   eng maths\n",
      "\n",
      "cse1 chandu 9948133934 60 70\n",
      "\n",
      "cse4 chandu 9848779038 20 10\n"
     ]
    }
   ],
   "source": [
    "import re\n",
    "fh=open(\"result.txt\",'r')\n",
    "count=0\n",
    "for line in fh:\n",
    "    count+=1\n",
    "    if(count==1):\n",
    "        print(line)\n",
    "    else:\n",
    "        if re.search('\\d{2}',line):\n",
    "            for each in line:\n",
    "                \n",
    "fh.close()\n",
    "fh1.close()    \n"
   ]
  },
  {
   "cell_type": "code",
   "execution_count": null,
   "metadata": {},
   "outputs": [],
   "source": []
  }
 ],
 "metadata": {
  "kernelspec": {
   "display_name": "Python 3",
   "language": "python",
   "name": "python3"
  },
  "language_info": {
   "codemirror_mode": {
    "name": "ipython",
    "version": 3
   },
   "file_extension": ".py",
   "mimetype": "text/x-python",
   "name": "python",
   "nbconvert_exporter": "python",
   "pygments_lexer": "ipython3",
   "version": "3.7.3"
  }
 },
 "nbformat": 4,
 "nbformat_minor": 2
}
