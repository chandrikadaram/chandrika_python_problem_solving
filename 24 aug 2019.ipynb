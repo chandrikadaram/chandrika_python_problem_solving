{
 "cells": [
  {
   "cell_type": "markdown",
   "metadata": {},
   "source": [
    "# functions:\n",
    "- Reusability\n",
    "- Easy to debug"
   ]
  },
  {
   "cell_type": "code",
   "execution_count": 20,
   "metadata": {},
   "outputs": [
    {
     "name": "stdout",
     "output_type": "stream",
     "text": [
      "20\n",
      "40\n",
      "40\n"
     ]
    },
    {
     "data": {
      "text/plain": [
       "(10, 30, 40)"
      ]
     },
     "execution_count": 20,
     "metadata": {},
     "output_type": "execute_result"
    }
   ],
   "source": [
    "def add():\n",
    "    \n",
    "    a=10\n",
    "    b=30\n",
    "    c=a+b\n",
    "    print(c)\n",
    "    return a,b,c\n",
    "a=int(input())\n",
    "b=int(input())\n",
    "add()"
   ]
  },
  {
   "cell_type": "code",
   "execution_count": 5,
   "metadata": {},
   "outputs": [
    {
     "name": "stdout",
     "output_type": "stream",
     "text": [
      "40\n",
      "100\n"
     ]
    }
   ],
   "source": [
    "a=10\n",
    "def dis():\n",
    "    b=40\n",
    "    a=100\n",
    "    print(b)\n",
    "    print(a)\n",
    "dis()"
   ]
  },
  {
   "cell_type": "code",
   "execution_count": 6,
   "metadata": {},
   "outputs": [
    {
     "name": "stdout",
     "output_type": "stream",
     "text": [
      "10 20\n"
     ]
    }
   ],
   "source": [
    "def display(a,b):\n",
    "    print(a,b)\n",
    "display(10,20)\n"
   ]
  },
  {
   "cell_type": "code",
   "execution_count": 7,
   "metadata": {},
   "outputs": [
    {
     "name": "stdout",
     "output_type": "stream",
     "text": [
      "20 10\n"
     ]
    }
   ],
   "source": [
    "def display(a,b):\n",
    "    print(a,b)\n",
    "display(b=10,a=20)\n"
   ]
  },
  {
   "cell_type": "code",
   "execution_count": 18,
   "metadata": {},
   "outputs": [
    {
     "name": "stdout",
     "output_type": "stream",
     "text": [
      "chandu cse\n",
      "bujji MSCS\n"
     ]
    }
   ],
   "source": [
    "def display(name,branch='cse'):\n",
    "    print(name,end=' ')\n",
    "    print(branch)\n",
    "display(\"chandu\")\n",
    "display(name=\"bujji\",branch='MSCS')"
   ]
  },
  {
   "cell_type": "code",
   "execution_count": 33,
   "metadata": {},
   "outputs": [
    {
     "data": {
      "text/plain": [
       "[2]"
      ]
     },
     "execution_count": 33,
     "metadata": {},
     "output_type": "execute_result"
    }
   ],
   "source": [
    "def evenodd(n):\n",
    "    for i in range(2,n+1,2):\n",
    "         return [i]\n",
    "evenodd(10)"
   ]
  },
  {
   "cell_type": "code",
   "execution_count": 44,
   "metadata": {},
   "outputs": [
    {
     "name": "stdout",
     "output_type": "stream",
     "text": [
      "30\n"
     ]
    }
   ],
   "source": [
    "def even(i):\n",
    "    if(i%2==0):\n",
    "        return 1\n",
    "sum=0\n",
    "for i in range(1,11):\n",
    "    if(even(i)==1):\n",
    "        sum=sum+i\n",
    "print(sum)\n",
    "     "
   ]
  },
  {
   "cell_type": "code",
   "execution_count": 47,
   "metadata": {},
   "outputs": [
    {
     "name": "stdout",
     "output_type": "stream",
     "text": [
      "2\n",
      "10\n",
      "30\n"
     ]
    }
   ],
   "source": [
    "def even(i):\n",
    "    if(i%2==0):\n",
    "        return 1\n",
    "sum=0\n",
    "lb=int(input())\n",
    "ub=int(input())\n",
    "\n",
    "for i in range(lb,ub+1):\n",
    "    if(even(i)==1):\n",
    "        sum=sum+i\n",
    "print(sum)\n",
    "     "
   ]
  },
  {
   "cell_type": "code",
   "execution_count": null,
   "metadata": {},
   "outputs": [],
   "source": [
    "\n",
    "     "
   ]
  }
 ],
 "metadata": {
  "kernelspec": {
   "display_name": "Python 3",
   "language": "python",
   "name": "python3"
  },
  "language_info": {
   "codemirror_mode": {
    "name": "ipython",
    "version": 3
   },
   "file_extension": ".py",
   "mimetype": "text/x-python",
   "name": "python",
   "nbconvert_exporter": "python",
   "pygments_lexer": "ipython3",
   "version": "3.7.3"
  }
 },
 "nbformat": 4,
 "nbformat_minor": 2
}
