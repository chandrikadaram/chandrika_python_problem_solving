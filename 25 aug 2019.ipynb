{
 "cells": [
  {
   "cell_type": "code",
   "execution_count": 22,
   "metadata": {},
   "outputs": [
    {
     "name": "stdout",
     "output_type": "stream",
     "text": [
      "20\n"
     ]
    }
   ],
   "source": [
    "def sum(numbers):\n",
    "    total = 0\n",
    "    for x in numbers:\n",
    "        total += x\n",
    "    return total\n",
    "print(sum((8, 2, 3, 0, 7)))"
   ]
  },
  {
   "cell_type": "code",
   "execution_count": 35,
   "metadata": {},
   "outputs": [
    {
     "data": {
      "text/plain": [
       "55"
      ]
     },
     "execution_count": 35,
     "metadata": {},
     "output_type": "execute_result"
    }
   ],
   "source": [
    "def sum(i):\n",
    "    sum=0\n",
    "    for x in range(i+1):\n",
    "        sum=sum+x\n",
    "    return sum\n",
    "sum(10)\n"
   ]
  },
  {
   "cell_type": "code",
   "execution_count": 34,
   "metadata": {},
   "outputs": [
    {
     "name": "stdout",
     "output_type": "stream",
     "text": [
      "5\n"
     ]
    },
    {
     "data": {
      "text/plain": [
       "120"
      ]
     },
     "execution_count": 34,
     "metadata": {},
     "output_type": "execute_result"
    }
   ],
   "source": [
    "def fact(n):\n",
    "    fact=1\n",
    "    while(n>=1):\n",
    "        fact=fact*n\n",
    "        n=n-1\n",
    "    return fact\n",
    "n=int(input())\n",
    "fact(n)"
   ]
  },
  {
   "cell_type": "code",
   "execution_count": 1,
   "metadata": {},
   "outputs": [
    {
     "name": "stdout",
     "output_type": "stream",
     "text": [
      "2012\n"
     ]
    },
    {
     "data": {
      "text/plain": [
       "'leapyear'"
      ]
     },
     "execution_count": 1,
     "metadata": {},
     "output_type": "execute_result"
    }
   ],
   "source": [
    "def leapyear(n):\n",
    "    if(n%4==0 and n%100!=0 or n%400==0):\n",
    "        return \"leapyear\"\n",
    "    else:\n",
    "        return \"not\"\n",
    "n=int(input())\n",
    "leapyear(n)"
   ]
  },
  {
   "cell_type": "code",
   "execution_count": 2,
   "metadata": {},
   "outputs": [
    {
     "name": "stdout",
     "output_type": "stream",
     "text": [
      "20\n",
      "50\n",
      "70\n"
     ]
    },
    {
     "data": {
      "text/plain": [
       "70"
      ]
     },
     "execution_count": 2,
     "metadata": {},
     "output_type": "execute_result"
    }
   ],
   "source": [
    "def max(a,b,c):\n",
    "    if(a>b and a>c):\n",
    "        return a\n",
    "    elif(b>c):\n",
    "        return b\n",
    "    else:\n",
    "        return c\n",
    "a=int(input())\n",
    "b=int(input())\n",
    "c=int(input())\n",
    "max(a,b,c)\n",
    "    \n",
    "    "
   ]
  },
  {
   "cell_type": "code",
   "execution_count": 5,
   "metadata": {},
   "outputs": [
    {
     "name": "stdout",
     "output_type": "stream",
     "text": [
      "chandu\n"
     ]
    },
    {
     "data": {
      "text/plain": [
       "'udnahc'"
      ]
     },
     "execution_count": 5,
     "metadata": {},
     "output_type": "execute_result"
    }
   ],
   "source": [
    "def rev(s):\n",
    "        return s[::-1]\n",
    "s=input()\n",
    "rev(s)"
   ]
  },
  {
   "cell_type": "code",
   "execution_count": 1,
   "metadata": {},
   "outputs": [
    {
     "name": "stdout",
     "output_type": "stream",
     "text": [
      "aba\n"
     ]
    },
    {
     "data": {
      "text/plain": [
       "'pallindrome'"
      ]
     },
     "execution_count": 1,
     "metadata": {},
     "output_type": "execute_result"
    }
   ],
   "source": [
    "def palin(s):\n",
    "    if(s==s[::-1]):\n",
    "        return \"pallindrome\"\n",
    "    else:\n",
    "        return \"not\"\n",
    "s=input()\n",
    "palin(s)"
   ]
  },
  {
   "cell_type": "code",
   "execution_count": 19,
   "metadata": {},
   "outputs": [
    {
     "name": "stdout",
     "output_type": "stream",
     "text": [
      "6\n"
     ]
    },
    {
     "data": {
      "text/plain": [
       "[1, 2, 3, 6]"
      ]
     },
     "execution_count": 19,
     "metadata": {},
     "output_type": "execute_result"
    }
   ],
   "source": [
    "def factor(n):\n",
    "    list=[]\n",
    "    for i in range(1,n+1):\n",
    "        i=int(i)\n",
    "        if(n%i==0):\n",
    "            list.append(i)\n",
    "    return list\n",
    "n=int(input())\n",
    "factor(n)\n"
   ]
  },
  {
   "cell_type": "code",
   "execution_count": 7,
   "metadata": {},
   "outputs": [
    {
     "name": "stdout",
     "output_type": "stream",
     "text": [
      "23\n"
     ]
    },
    {
     "data": {
      "text/plain": [
       "2"
      ]
     },
     "execution_count": 7,
     "metadata": {},
     "output_type": "execute_result"
    }
   ],
   "source": [
    "def count(n):\n",
    "    c=0\n",
    "    while(n>0):\n",
    "        n=n//10\n",
    "        c+=1\n",
    "    return c\n",
    "n=int(input())\n",
    "count(n)"
   ]
  },
  {
   "cell_type": "code",
   "execution_count": 1,
   "metadata": {},
   "outputs": [
    {
     "name": "stdout",
     "output_type": "stream",
     "text": [
      "1\n",
      "100\n",
      "2550\n"
     ]
    }
   ],
   "source": [
    "def even(i):\n",
    "    if(i%2==0):\n",
    "        return 1\n",
    "sum=0\n",
    "lb=int(input())\n",
    "ub=int(input())\n",
    "\n",
    "for i in range(lb,ub+1):\n",
    "    if(even(i)==1):\n",
    "        sum=sum+i\n",
    "print(sum)\n",
    "     "
   ]
  },
  {
   "cell_type": "code",
   "execution_count": 11,
   "metadata": {},
   "outputs": [
    {
     "name": "stdout",
     "output_type": "stream",
     "text": [
      "1\n",
      "2\n",
      "3\n",
      "4\n",
      "5\n"
     ]
    },
    {
     "data": {
      "text/plain": [
       "15"
      ]
     },
     "execution_count": 11,
     "metadata": {},
     "output_type": "execute_result"
    }
   ],
   "source": [
    "def add(n):\n",
    "    s=0\n",
    "    for i in range(0,len(n)):\n",
    "        s=s+l[i]\n",
    "    return s\n",
    "l=[]\n",
    "for i in range(0,5):\n",
    "    n=int(input())\n",
    "    l.append(n)\n",
    "add(l)"
   ]
  },
  {
   "cell_type": "code",
   "execution_count": 12,
   "metadata": {},
   "outputs": [
    {
     "name": "stdout",
     "output_type": "stream",
     "text": [
      "1\n",
      "2\n",
      "3\n",
      "4\n",
      "5\n"
     ]
    },
    {
     "data": {
      "text/plain": [
       "120"
      ]
     },
     "execution_count": 12,
     "metadata": {},
     "output_type": "execute_result"
    }
   ],
   "source": [
    "def mul(n):\n",
    "    s=1\n",
    "    for i in range(0,len(n)):\n",
    "        s=s*l[i]\n",
    "    return s\n",
    "l=[]\n",
    "for i in range(0,5):\n",
    "    n=int(input())\n",
    "    l.append(n)\n",
    "mul(l)"
   ]
  },
  {
   "cell_type": "code",
   "execution_count": 2,
   "metadata": {},
   "outputs": [
    {
     "name": "stdout",
     "output_type": "stream",
     "text": [
      "0\n",
      "5\n",
      "1\n",
      "2\n",
      "2\n",
      "3\n",
      "4\n",
      "4\n"
     ]
    },
    {
     "data": {
      "text/plain": [
       "[1, 2, 3, 4]"
      ]
     },
     "execution_count": 2,
     "metadata": {},
     "output_type": "execute_result"
    }
   ],
   "source": [
    "def unique(l):\n",
    "    set1=set(l)\n",
    "    \n",
    "    return list(set1)\n",
    "lb=int(input())\n",
    "ub=int(input())\n",
    "l=[]\n",
    "for i in range(lb,ub+1):\n",
    "    n=int(input())\n",
    "    l.append(n)\n",
    "unique(l)"
   ]
  },
  {
   "cell_type": "markdown",
   "metadata": {},
   "source": [
    "### "
   ]
  },
  {
   "cell_type": "code",
   "execution_count": 1,
   "metadata": {},
   "outputs": [
    {
     "name": "stdout",
     "output_type": "stream",
     "text": [
      "[1, 2, 3, 4, 5, 6]\n"
     ]
    }
   ],
   "source": [
    "l=[1,2,3,4,5,6,5,6]\n",
    "print(list(set(l)))\n"
   ]
  },
  {
   "cell_type": "code",
   "execution_count": 6,
   "metadata": {},
   "outputs": [
    {
     "name": "stdout",
     "output_type": "stream",
     "text": [
      "chan1Ndu\n",
      "1 6\n"
     ]
    }
   ],
   "source": [
    "def uprstr(s):\n",
    "    lp=0\n",
    "    up=0\n",
    "    for c in s:\n",
    "        if c.isupper():\n",
    "            up+=1\n",
    "        elif c.islower():\n",
    "            lp+=1\n",
    "        else:\n",
    "            pass\n",
    "    print(up,lp)\n",
    "            \n",
    "s=input()\n",
    "uprstr(s)"
   ]
  },
  {
   "cell_type": "code",
   "execution_count": 1,
   "metadata": {},
   "outputs": [
    {
     "name": "stdout",
     "output_type": "stream",
     "text": [
      "12\n"
     ]
    },
    {
     "data": {
      "text/plain": [
       "'not'"
      ]
     },
     "execution_count": 1,
     "metadata": {},
     "output_type": "execute_result"
    }
   ],
   "source": [
    "def prime(n):\n",
    "    c=0\n",
    "    for i in range(1,n+1):\n",
    "        if(n%i==0):\n",
    "            c+=1\n",
    "    if(c==2):\n",
    "        return \"prime\"\n",
    "    else:\n",
    "        return \"not\"\n",
    "n=int(input())\n",
    "prime(n)\n",
    "            "
   ]
  },
  {
   "cell_type": "code",
   "execution_count": null,
   "metadata": {},
   "outputs": [],
   "source": [
    "def even(n):\n",
    "    l=[]\n",
    "    for i in n:\n",
    "        if(i%2==0):\n",
    "            l.append(i)\n",
    "    return l\n",
    "lb=int(input())\n",
    "ub=int(input())\n",
    "l=[]\n",
    "for i in range(lb,ub+1):\n",
    "    n=int(input())\n",
    "    l.append(n)\n",
    "even(l)"
   ]
  },
  {
   "cell_type": "code",
   "execution_count": 5,
   "metadata": {},
   "outputs": [
    {
     "name": "stdout",
     "output_type": "stream",
     "text": [
      "2\n",
      "3\n"
     ]
    },
    {
     "data": {
      "text/plain": [
       "2"
      ]
     },
     "execution_count": 5,
     "metadata": {},
     "output_type": "execute_result"
    }
   ],
   "source": [
    "def sample(l,x):\n",
    "    \n",
    "    if x in range(1,n+1) :\n",
    "            return x\n",
    "    \n",
    "l=[]\n",
    "x=int(input())\n",
    "n=int(input())    \n",
    "sample(l,x)"
   ]
  },
  {
   "cell_type": "code",
   "execution_count": 6,
   "metadata": {},
   "outputs": [
    {
     "name": "stdout",
     "output_type": "stream",
     "text": [
      "6\n",
      "28\n",
      "496\n",
      "8128\n"
     ]
    }
   ],
   "source": [
    "def perfect_number(num):\n",
    "    su = 0\n",
    "    for i in range(1, num):\n",
    "        if num % i == 0:\n",
    "            su += i\n",
    "    return su == num\n",
    "\n",
    "def perfect_number_main(n):\n",
    "    if perfect_number(n) == True:\n",
    "        print(n)\n",
    "    else:\n",
    "        pass\n",
    "\n",
    "for i in range(1,10000):\n",
    "    perfect_number_main(i)\n"
   ]
  },
  {
   "cell_type": "code",
   "execution_count": null,
   "metadata": {},
   "outputs": [],
   "source": []
  }
 ],
 "metadata": {
  "kernelspec": {
   "display_name": "Python 3",
   "language": "python",
   "name": "python3"
  },
  "language_info": {
   "codemirror_mode": {
    "name": "ipython",
    "version": 3
   },
   "file_extension": ".py",
   "mimetype": "text/x-python",
   "name": "python",
   "nbconvert_exporter": "python",
   "pygments_lexer": "ipython3",
   "version": "3.7.3"
  }
 },
 "nbformat": 4,
 "nbformat_minor": 2
}
